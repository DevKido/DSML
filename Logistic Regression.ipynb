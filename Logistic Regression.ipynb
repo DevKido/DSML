{
 "cells": [
  {
   "cell_type": "code",
   "execution_count": 1,
   "metadata": {},
   "outputs": [
    {
     "data": {
      "text/html": [
       "<style>#notebook { padding-top:0px !important; } .container { width:100% !important; } .end_space { min-height:0px !important; } </style>"
      ],
      "text/plain": [
       "<IPython.core.display.HTML object>"
      ]
     },
     "metadata": {},
     "output_type": "display_data"
    }
   ],
   "source": [
    "from IPython.core.display import display, HTML\n",
    "display(HTML(\n",
    "    '<style>'\n",
    "        '#notebook { padding-top:0px !important; } ' \n",
    "        '.container { width:100% !important; } '\n",
    "        '.end_space { min-height:0px !important; } '\n",
    "    '</style>'\n",
    "))"
   ]
  },
  {
   "cell_type": "code",
   "execution_count": 44,
   "metadata": {},
   "outputs": [
    {
     "ename": "ValueError",
     "evalue": "Cannot run multiple SparkContexts at once; existing SparkContext(app=lrConf, master=local) created by __init__ at <ipython-input-2-7e6a0cadb6d3>:6 ",
     "output_type": "error",
     "traceback": [
      "\u001b[1;31m---------------------------------------------------------------------------\u001b[0m",
      "\u001b[1;31mValueError\u001b[0m                                Traceback (most recent call last)",
      "\u001b[1;32m<ipython-input-44-7e6a0cadb6d3>\u001b[0m in \u001b[0;36m<module>\u001b[1;34m\u001b[0m\n\u001b[0;32m      4\u001b[0m \u001b[1;32mfrom\u001b[0m \u001b[0mpyspark\u001b[0m \u001b[1;32mimport\u001b[0m \u001b[0mSparkConf\u001b[0m\u001b[1;33m,\u001b[0m\u001b[0mSparkContext\u001b[0m\u001b[1;33m\u001b[0m\u001b[1;33m\u001b[0m\u001b[0m\n\u001b[0;32m      5\u001b[0m \u001b[0mconf\u001b[0m \u001b[1;33m=\u001b[0m \u001b[0mSparkConf\u001b[0m\u001b[1;33m(\u001b[0m\u001b[1;33m)\u001b[0m\u001b[1;33m.\u001b[0m\u001b[0msetAppName\u001b[0m\u001b[1;33m(\u001b[0m\u001b[1;34m\"lrConf\"\u001b[0m\u001b[1;33m)\u001b[0m\u001b[1;33m.\u001b[0m\u001b[0msetMaster\u001b[0m\u001b[1;33m(\u001b[0m\u001b[1;34m'local'\u001b[0m\u001b[1;33m)\u001b[0m\u001b[1;33m\u001b[0m\u001b[1;33m\u001b[0m\u001b[0m\n\u001b[1;32m----> 6\u001b[1;33m \u001b[0msc\u001b[0m \u001b[1;33m=\u001b[0m \u001b[0mSparkContext\u001b[0m\u001b[1;33m(\u001b[0m\u001b[0mconf\u001b[0m \u001b[1;33m=\u001b[0m \u001b[0mconf\u001b[0m\u001b[1;33m)\u001b[0m\u001b[1;33m\u001b[0m\u001b[1;33m\u001b[0m\u001b[0m\n\u001b[0m\u001b[0;32m      7\u001b[0m \u001b[1;33m\u001b[0m\u001b[0m\n\u001b[0;32m      8\u001b[0m \u001b[1;32mfrom\u001b[0m \u001b[0mpyspark\u001b[0m\u001b[1;33m.\u001b[0m\u001b[0msql\u001b[0m \u001b[1;32mimport\u001b[0m \u001b[0mSparkSession\u001b[0m\u001b[1;33m\u001b[0m\u001b[1;33m\u001b[0m\u001b[0m\n",
      "\u001b[1;32mD:\\Softwares\\Spark\\spark-2.4.7-bin-hadoop2.7\\python\\pyspark\\context.py\u001b[0m in \u001b[0;36m__init__\u001b[1;34m(self, master, appName, sparkHome, pyFiles, environment, batchSize, serializer, conf, gateway, jsc, profiler_cls)\u001b[0m\n\u001b[0;32m    131\u001b[0m                     \" note this option will be removed in Spark 3.0\")\n\u001b[0;32m    132\u001b[0m \u001b[1;33m\u001b[0m\u001b[0m\n\u001b[1;32m--> 133\u001b[1;33m         \u001b[0mSparkContext\u001b[0m\u001b[1;33m.\u001b[0m\u001b[0m_ensure_initialized\u001b[0m\u001b[1;33m(\u001b[0m\u001b[0mself\u001b[0m\u001b[1;33m,\u001b[0m \u001b[0mgateway\u001b[0m\u001b[1;33m=\u001b[0m\u001b[0mgateway\u001b[0m\u001b[1;33m,\u001b[0m \u001b[0mconf\u001b[0m\u001b[1;33m=\u001b[0m\u001b[0mconf\u001b[0m\u001b[1;33m)\u001b[0m\u001b[1;33m\u001b[0m\u001b[1;33m\u001b[0m\u001b[0m\n\u001b[0m\u001b[0;32m    134\u001b[0m         \u001b[1;32mtry\u001b[0m\u001b[1;33m:\u001b[0m\u001b[1;33m\u001b[0m\u001b[1;33m\u001b[0m\u001b[0m\n\u001b[0;32m    135\u001b[0m             self._do_init(master, appName, sparkHome, pyFiles, environment, batchSize, serializer,\n",
      "\u001b[1;32mD:\\Softwares\\Spark\\spark-2.4.7-bin-hadoop2.7\\python\\pyspark\\context.py\u001b[0m in \u001b[0;36m_ensure_initialized\u001b[1;34m(cls, instance, gateway, conf)\u001b[0m\n\u001b[0;32m    330\u001b[0m                         \u001b[1;34m\" created by %s at %s:%s \"\u001b[0m\u001b[1;33m\u001b[0m\u001b[1;33m\u001b[0m\u001b[0m\n\u001b[0;32m    331\u001b[0m                         % (currentAppName, currentMaster,\n\u001b[1;32m--> 332\u001b[1;33m                             callsite.function, callsite.file, callsite.linenum))\n\u001b[0m\u001b[0;32m    333\u001b[0m                 \u001b[1;32melse\u001b[0m\u001b[1;33m:\u001b[0m\u001b[1;33m\u001b[0m\u001b[1;33m\u001b[0m\u001b[0m\n\u001b[0;32m    334\u001b[0m                     \u001b[0mSparkContext\u001b[0m\u001b[1;33m.\u001b[0m\u001b[0m_active_spark_context\u001b[0m \u001b[1;33m=\u001b[0m \u001b[0minstance\u001b[0m\u001b[1;33m\u001b[0m\u001b[1;33m\u001b[0m\u001b[0m\n",
      "\u001b[1;31mValueError\u001b[0m: Cannot run multiple SparkContexts at once; existing SparkContext(app=lrConf, master=local) created by __init__ at <ipython-input-2-7e6a0cadb6d3>:6 "
     ]
    }
   ],
   "source": [
    "import findspark\n",
    "findspark.init()\n",
    "\n",
    "from pyspark import SparkConf,SparkContext\n",
    "conf = SparkConf().setAppName(\"lrConf\").setMaster('local')\n",
    "sc = SparkContext(conf = conf)\n",
    "\n",
    "from pyspark.sql import SparkSession\n",
    "spark = SparkSession(sc).builder.appName('lrApp').getOrCreate()"
   ]
  },
  {
   "cell_type": "code",
   "execution_count": 45,
   "metadata": {},
   "outputs": [],
   "source": [
    "df = spark.read.csv(\"./Resources/Python-and-Spark-for-Big-Data-master/Spark_for_Machine_Learning/Logistic_Regression/titanic.csv\", inferSchema=True, header=True)"
   ]
  },
  {
   "cell_type": "code",
   "execution_count": 46,
   "metadata": {},
   "outputs": [
    {
     "name": "stdout",
     "output_type": "stream",
     "text": [
      "Row(PassengerId=1, Survived=0, Pclass=3, Name='Braund, Mr. Owen Harris', Sex='male', Age=22.0, SibSp=1, Parch=0, Ticket='A/5 21171', Fare=7.25, Cabin=None, Embarked='S')\n",
      "\n",
      "\n",
      "Row(PassengerId=2, Survived=1, Pclass=1, Name='Cumings, Mrs. John Bradley (Florence Briggs Thayer)', Sex='female', Age=38.0, SibSp=1, Parch=0, Ticket='PC 17599', Fare=71.2833, Cabin='C85', Embarked='C')\n",
      "\n",
      "\n",
      "Row(PassengerId=3, Survived=1, Pclass=3, Name='Heikkinen, Miss. Laina', Sex='female', Age=26.0, SibSp=0, Parch=0, Ticket='STON/O2. 3101282', Fare=7.925, Cabin=None, Embarked='S')\n",
      "\n",
      "\n",
      "Row(PassengerId=4, Survived=1, Pclass=1, Name='Futrelle, Mrs. Jacques Heath (Lily May Peel)', Sex='female', Age=35.0, SibSp=1, Parch=0, Ticket='113803', Fare=53.1, Cabin='C123', Embarked='S')\n",
      "\n",
      "\n",
      "Row(PassengerId=5, Survived=0, Pclass=3, Name='Allen, Mr. William Henry', Sex='male', Age=35.0, SibSp=0, Parch=0, Ticket='373450', Fare=8.05, Cabin=None, Embarked='S')\n",
      "\n",
      "\n"
     ]
    }
   ],
   "source": [
    "for i in df.head(5):\n",
    "    print(i)\n",
    "    print('\\n')"
   ]
  },
  {
   "cell_type": "code",
   "execution_count": 47,
   "metadata": {},
   "outputs": [
    {
     "data": {
      "text/plain": [
       "['PassengerId',\n",
       " 'Survived',\n",
       " 'Pclass',\n",
       " 'Name',\n",
       " 'Sex',\n",
       " 'Age',\n",
       " 'SibSp',\n",
       " 'Parch',\n",
       " 'Ticket',\n",
       " 'Fare',\n",
       " 'Cabin',\n",
       " 'Embarked']"
      ]
     },
     "execution_count": 47,
     "metadata": {},
     "output_type": "execute_result"
    }
   ],
   "source": [
    "df.columns"
   ]
  },
  {
   "cell_type": "code",
   "execution_count": 77,
   "metadata": {},
   "outputs": [],
   "source": [
    "req_data = df.select(['Survived', 'Pclass', 'Sex', 'Age', 'SibSp', 'Parch', 'Fare', 'Embarked']).na.drop()"
   ]
  },
  {
   "cell_type": "code",
   "execution_count": 78,
   "metadata": {},
   "outputs": [],
   "source": [
    "from pyspark.ml.classification import LogisticRegression"
   ]
  },
  {
   "cell_type": "code",
   "execution_count": 79,
   "metadata": {},
   "outputs": [],
   "source": [
    "from pyspark.ml.feature import VectorAssembler, OneHotEncoder, StringIndexer, VectorIndexer"
   ]
  },
  {
   "cell_type": "code",
   "execution_count": 80,
   "metadata": {},
   "outputs": [],
   "source": [
    "gender_index = StringIndexer(inputCol='Sex', outputCol='SexIndex')"
   ]
  },
  {
   "cell_type": "code",
   "execution_count": 81,
   "metadata": {},
   "outputs": [],
   "source": [
    "new_temp_gen_index = gender_index.fit(req_data).transform(req_data)"
   ]
  },
  {
   "cell_type": "code",
   "execution_count": 82,
   "metadata": {},
   "outputs": [],
   "source": [
    "gen_one_encoded = OneHotEncoder(inputCol='SexIndex', outputCol='Gender')"
   ]
  },
  {
   "cell_type": "code",
   "execution_count": 83,
   "metadata": {},
   "outputs": [],
   "source": [
    "new_temp_data = gen_one_encoded.transform(new_temp_gen_index)"
   ]
  },
  {
   "cell_type": "code",
   "execution_count": 84,
   "metadata": {},
   "outputs": [
    {
     "name": "stdout",
     "output_type": "stream",
     "text": [
      "+--------+------+------+----+-----+-----+-------+--------+--------+-------------+\n",
      "|Survived|Pclass|   Sex| Age|SibSp|Parch|   Fare|Embarked|SexIndex|       Gender|\n",
      "+--------+------+------+----+-----+-----+-------+--------+--------+-------------+\n",
      "|       0|     3|  male|22.0|    1|    0|   7.25|       S|     0.0|(1,[0],[1.0])|\n",
      "|       1|     1|female|38.0|    1|    0|71.2833|       C|     1.0|    (1,[],[])|\n",
      "|       1|     3|female|26.0|    0|    0|  7.925|       S|     1.0|    (1,[],[])|\n",
      "|       1|     1|female|35.0|    1|    0|   53.1|       S|     1.0|    (1,[],[])|\n",
      "|       0|     3|  male|35.0|    0|    0|   8.05|       S|     0.0|(1,[0],[1.0])|\n",
      "|       0|     1|  male|54.0|    0|    0|51.8625|       S|     0.0|(1,[0],[1.0])|\n",
      "|       0|     3|  male| 2.0|    3|    1| 21.075|       S|     0.0|(1,[0],[1.0])|\n",
      "|       1|     3|female|27.0|    0|    2|11.1333|       S|     1.0|    (1,[],[])|\n",
      "|       1|     2|female|14.0|    1|    0|30.0708|       C|     1.0|    (1,[],[])|\n",
      "|       1|     3|female| 4.0|    1|    1|   16.7|       S|     1.0|    (1,[],[])|\n",
      "|       1|     1|female|58.0|    0|    0|  26.55|       S|     1.0|    (1,[],[])|\n",
      "|       0|     3|  male|20.0|    0|    0|   8.05|       S|     0.0|(1,[0],[1.0])|\n",
      "|       0|     3|  male|39.0|    1|    5| 31.275|       S|     0.0|(1,[0],[1.0])|\n",
      "|       0|     3|female|14.0|    0|    0| 7.8542|       S|     1.0|    (1,[],[])|\n",
      "|       1|     2|female|55.0|    0|    0|   16.0|       S|     1.0|    (1,[],[])|\n",
      "|       0|     3|  male| 2.0|    4|    1| 29.125|       Q|     0.0|(1,[0],[1.0])|\n",
      "|       0|     3|female|31.0|    1|    0|   18.0|       S|     1.0|    (1,[],[])|\n",
      "|       0|     2|  male|35.0|    0|    0|   26.0|       S|     0.0|(1,[0],[1.0])|\n",
      "|       1|     2|  male|34.0|    0|    0|   13.0|       S|     0.0|(1,[0],[1.0])|\n",
      "|       1|     3|female|15.0|    0|    0| 8.0292|       Q|     1.0|    (1,[],[])|\n",
      "+--------+------+------+----+-----+-----+-------+--------+--------+-------------+\n",
      "only showing top 20 rows\n",
      "\n"
     ]
    }
   ],
   "source": [
    "new_temp_data.show()"
   ]
  },
  {
   "cell_type": "code",
   "execution_count": 85,
   "metadata": {},
   "outputs": [],
   "source": [
    "embark_index = StringIndexer(inputCol='Embarked', outputCol='EmbarkIndex')\n",
    "new_temp_index_2 = embark_index.fit(new_temp_data).transform(new_temp_data)\n",
    "\n",
    "embark_one_encoded = OneHotEncoder(inputCol='EmbarkIndex', outputCol='Embark')\n",
    "new_req_data = embark_one_encoded.transform(new_temp_index_2)"
   ]
  },
  {
   "cell_type": "code",
   "execution_count": 86,
   "metadata": {},
   "outputs": [
    {
     "name": "stdout",
     "output_type": "stream",
     "text": [
      "+--------+------+------+----+-----+-----+-------+--------+--------+-------------+-----------+-------------+\n",
      "|Survived|Pclass|   Sex| Age|SibSp|Parch|   Fare|Embarked|SexIndex|       Gender|EmbarkIndex|       Embark|\n",
      "+--------+------+------+----+-----+-----+-------+--------+--------+-------------+-----------+-------------+\n",
      "|       0|     3|  male|22.0|    1|    0|   7.25|       S|     0.0|(1,[0],[1.0])|        0.0|(2,[0],[1.0])|\n",
      "|       1|     1|female|38.0|    1|    0|71.2833|       C|     1.0|    (1,[],[])|        1.0|(2,[1],[1.0])|\n",
      "|       1|     3|female|26.0|    0|    0|  7.925|       S|     1.0|    (1,[],[])|        0.0|(2,[0],[1.0])|\n",
      "|       1|     1|female|35.0|    1|    0|   53.1|       S|     1.0|    (1,[],[])|        0.0|(2,[0],[1.0])|\n",
      "|       0|     3|  male|35.0|    0|    0|   8.05|       S|     0.0|(1,[0],[1.0])|        0.0|(2,[0],[1.0])|\n",
      "|       0|     1|  male|54.0|    0|    0|51.8625|       S|     0.0|(1,[0],[1.0])|        0.0|(2,[0],[1.0])|\n",
      "|       0|     3|  male| 2.0|    3|    1| 21.075|       S|     0.0|(1,[0],[1.0])|        0.0|(2,[0],[1.0])|\n",
      "|       1|     3|female|27.0|    0|    2|11.1333|       S|     1.0|    (1,[],[])|        0.0|(2,[0],[1.0])|\n",
      "|       1|     2|female|14.0|    1|    0|30.0708|       C|     1.0|    (1,[],[])|        1.0|(2,[1],[1.0])|\n",
      "|       1|     3|female| 4.0|    1|    1|   16.7|       S|     1.0|    (1,[],[])|        0.0|(2,[0],[1.0])|\n",
      "|       1|     1|female|58.0|    0|    0|  26.55|       S|     1.0|    (1,[],[])|        0.0|(2,[0],[1.0])|\n",
      "|       0|     3|  male|20.0|    0|    0|   8.05|       S|     0.0|(1,[0],[1.0])|        0.0|(2,[0],[1.0])|\n",
      "|       0|     3|  male|39.0|    1|    5| 31.275|       S|     0.0|(1,[0],[1.0])|        0.0|(2,[0],[1.0])|\n",
      "|       0|     3|female|14.0|    0|    0| 7.8542|       S|     1.0|    (1,[],[])|        0.0|(2,[0],[1.0])|\n",
      "|       1|     2|female|55.0|    0|    0|   16.0|       S|     1.0|    (1,[],[])|        0.0|(2,[0],[1.0])|\n",
      "|       0|     3|  male| 2.0|    4|    1| 29.125|       Q|     0.0|(1,[0],[1.0])|        2.0|    (2,[],[])|\n",
      "|       0|     3|female|31.0|    1|    0|   18.0|       S|     1.0|    (1,[],[])|        0.0|(2,[0],[1.0])|\n",
      "|       0|     2|  male|35.0|    0|    0|   26.0|       S|     0.0|(1,[0],[1.0])|        0.0|(2,[0],[1.0])|\n",
      "|       1|     2|  male|34.0|    0|    0|   13.0|       S|     0.0|(1,[0],[1.0])|        0.0|(2,[0],[1.0])|\n",
      "|       1|     3|female|15.0|    0|    0| 8.0292|       Q|     1.0|    (1,[],[])|        2.0|    (2,[],[])|\n",
      "+--------+------+------+----+-----+-----+-------+--------+--------+-------------+-----------+-------------+\n",
      "only showing top 20 rows\n",
      "\n"
     ]
    }
   ],
   "source": [
    "new_req_data.show()"
   ]
  },
  {
   "cell_type": "code",
   "execution_count": 87,
   "metadata": {},
   "outputs": [],
   "source": [
    "new_req_data = new_req_data.na.drop()"
   ]
  },
  {
   "cell_type": "code",
   "execution_count": 72,
   "metadata": {},
   "outputs": [
    {
     "data": {
      "text/plain": [
       "['Survived',\n",
       " 'Pclass',\n",
       " 'Sex',\n",
       " 'Age',\n",
       " 'SibSp',\n",
       " 'Parch',\n",
       " 'Fare',\n",
       " 'Embarked',\n",
       " 'SexIndex',\n",
       " 'Gender',\n",
       " 'EmbarkIndex',\n",
       " 'Embark']"
      ]
     },
     "execution_count": 72,
     "metadata": {},
     "output_type": "execute_result"
    }
   ],
   "source": [
    "new_req_data.columns"
   ]
  },
  {
   "cell_type": "code",
   "execution_count": 88,
   "metadata": {},
   "outputs": [],
   "source": [
    "assembler = VectorAssembler(inputCols=['Pclass',\n",
    " 'Age',\n",
    " 'SibSp',\n",
    " 'Parch',\n",
    " 'Fare',\n",
    " 'Gender',\n",
    " 'Embark'], outputCol='features')"
   ]
  },
  {
   "cell_type": "code",
   "execution_count": 89,
   "metadata": {},
   "outputs": [],
   "source": [
    "new_data = assembler.transform(new_req_data)"
   ]
  },
  {
   "cell_type": "code",
   "execution_count": 90,
   "metadata": {},
   "outputs": [
    {
     "name": "stdout",
     "output_type": "stream",
     "text": [
      "root\n",
      " |-- Survived: integer (nullable = true)\n",
      " |-- Pclass: integer (nullable = true)\n",
      " |-- Sex: string (nullable = true)\n",
      " |-- Age: double (nullable = true)\n",
      " |-- SibSp: integer (nullable = true)\n",
      " |-- Parch: integer (nullable = true)\n",
      " |-- Fare: double (nullable = true)\n",
      " |-- Embarked: string (nullable = true)\n",
      " |-- SexIndex: double (nullable = false)\n",
      " |-- Gender: vector (nullable = true)\n",
      " |-- EmbarkIndex: double (nullable = false)\n",
      " |-- Embark: vector (nullable = true)\n",
      " |-- features: vector (nullable = true)\n",
      "\n"
     ]
    }
   ],
   "source": [
    "new_data.printSchema()"
   ]
  },
  {
   "cell_type": "code",
   "execution_count": 91,
   "metadata": {},
   "outputs": [
    {
     "name": "stdout",
     "output_type": "stream",
     "text": [
      "+-------+------------------+------------------+------+-----------------+------------------+-------------------+------------------+--------+------------------+------------------+\n",
      "|summary|          Survived|            Pclass|   Sex|              Age|             SibSp|              Parch|              Fare|Embarked|          SexIndex|       EmbarkIndex|\n",
      "+-------+------------------+------------------+------+-----------------+------------------+-------------------+------------------+--------+------------------+------------------+\n",
      "|  count|               712|               712|   712|              712|               712|                712|               712|     712|               712|               712|\n",
      "|   mean|0.4044943820224719| 2.240168539325843|  null|29.64209269662921|0.5140449438202247|0.43258426966292135| 34.56725140449432|    null|0.3637640449438202|0.2612359550561798|\n",
      "| stddev|0.4911389472541192|0.8368543166903446|  null|14.49293290032352|0.9306921267673427| 0.8541814457454133|52.938648174710906|    null|0.4814200635414358|0.5215606143930027|\n",
      "|    min|                 0|                 1|female|             0.42|                 0|                  0|               0.0|       C|               0.0|               0.0|\n",
      "|    max|                 1|                 3|  male|             80.0|                 5|                  6|          512.3292|       S|               1.0|               2.0|\n",
      "+-------+------------------+------------------+------+-----------------+------------------+-------------------+------------------+--------+------------------+------------------+\n",
      "\n"
     ]
    }
   ],
   "source": [
    "new_data.describe().show()"
   ]
  },
  {
   "cell_type": "code",
   "execution_count": 92,
   "metadata": {},
   "outputs": [],
   "source": [
    "final_data = new_data.select(['features', 'Survived'])"
   ]
  },
  {
   "cell_type": "code",
   "execution_count": 93,
   "metadata": {},
   "outputs": [
    {
     "name": "stdout",
     "output_type": "stream",
     "text": [
      "+--------------------+--------+\n",
      "|            features|Survived|\n",
      "+--------------------+--------+\n",
      "|[3.0,22.0,1.0,0.0...|       0|\n",
      "|[1.0,38.0,1.0,0.0...|       1|\n",
      "|(8,[0,1,4,6],[3.0...|       1|\n",
      "|[1.0,35.0,1.0,0.0...|       1|\n",
      "|[3.0,35.0,0.0,0.0...|       0|\n",
      "|[1.0,54.0,0.0,0.0...|       0|\n",
      "|[3.0,2.0,3.0,1.0,...|       0|\n",
      "|[3.0,27.0,0.0,2.0...|       1|\n",
      "|[2.0,14.0,1.0,0.0...|       1|\n",
      "|[3.0,4.0,1.0,1.0,...|       1|\n",
      "|(8,[0,1,4,6],[1.0...|       1|\n",
      "|[3.0,20.0,0.0,0.0...|       0|\n",
      "|[3.0,39.0,1.0,5.0...|       0|\n",
      "|(8,[0,1,4,6],[3.0...|       0|\n",
      "|(8,[0,1,4,6],[2.0...|       1|\n",
      "|[3.0,2.0,4.0,1.0,...|       0|\n",
      "|[3.0,31.0,1.0,0.0...|       0|\n",
      "|[2.0,35.0,0.0,0.0...|       0|\n",
      "|[2.0,34.0,0.0,0.0...|       1|\n",
      "|(8,[0,1,4],[3.0,1...|       1|\n",
      "+--------------------+--------+\n",
      "only showing top 20 rows\n",
      "\n"
     ]
    }
   ],
   "source": [
    "final_data.show()"
   ]
  },
  {
   "cell_type": "code",
   "execution_count": 94,
   "metadata": {},
   "outputs": [],
   "source": [
    "log_reg = LogisticRegression(labelCol='Survived')"
   ]
  },
  {
   "cell_type": "code",
   "execution_count": 95,
   "metadata": {},
   "outputs": [],
   "source": [
    "train, test = final_data.randomSplit([0.7,0.3])"
   ]
  },
  {
   "cell_type": "code",
   "execution_count": 96,
   "metadata": {},
   "outputs": [],
   "source": [
    "lr_model = log_reg.fit(train)"
   ]
  },
  {
   "cell_type": "code",
   "execution_count": 97,
   "metadata": {},
   "outputs": [],
   "source": [
    "test_res = lr_model.transform(test)"
   ]
  },
  {
   "cell_type": "code",
   "execution_count": 98,
   "metadata": {},
   "outputs": [],
   "source": [
    "from pyspark.ml.evaluation import BinaryClassificationEvaluator, MulticlassClassificationEvaluator"
   ]
  },
  {
   "cell_type": "code",
   "execution_count": 103,
   "metadata": {},
   "outputs": [
    {
     "name": "stdout",
     "output_type": "stream",
     "text": [
      "+-------+-------------------+-------------------+\n",
      "|summary|           Survived|         prediction|\n",
      "+-------+-------------------+-------------------+\n",
      "|  count|                215|                215|\n",
      "|   mean|0.42790697674418604|                0.4|\n",
      "| stddev|0.49592996820348795|0.49104123587240905|\n",
      "|    min|                  0|                0.0|\n",
      "|    25%|                  0|                0.0|\n",
      "|    50%|                  0|                0.0|\n",
      "|    75%|                  1|                1.0|\n",
      "|    max|                  1|                1.0|\n",
      "+-------+-------------------+-------------------+\n",
      "\n"
     ]
    }
   ],
   "source": [
    "test_res.summary().show()"
   ]
  },
  {
   "cell_type": "code",
   "execution_count": 106,
   "metadata": {},
   "outputs": [
    {
     "data": {
      "text/plain": [
       "Column<b'prediction'>"
      ]
     },
     "execution_count": 106,
     "metadata": {},
     "output_type": "execute_result"
    }
   ],
   "source": [
    "test_res.summary().prediction"
   ]
  },
  {
   "cell_type": "code",
   "execution_count": 109,
   "metadata": {},
   "outputs": [],
   "source": [
    "bin_eval = BinaryClassificationEvaluator(labelCol='Survived')"
   ]
  },
  {
   "cell_type": "code",
   "execution_count": 110,
   "metadata": {},
   "outputs": [
    {
     "data": {
      "text/plain": [
       "0.8562654648285616"
      ]
     },
     "execution_count": 110,
     "metadata": {},
     "output_type": "execute_result"
    }
   ],
   "source": [
    "bin_eval.evaluate(test_res)"
   ]
  },
  {
   "cell_type": "code",
   "execution_count": 111,
   "metadata": {},
   "outputs": [
    {
     "name": "stdout",
     "output_type": "stream",
     "text": [
      "+--------------------+--------+--------------------+--------------------+----------+\n",
      "|            features|Survived|       rawPrediction|         probability|prediction|\n",
      "+--------------------+--------+--------------------+--------------------+----------+\n",
      "|(8,[0,1,4],[3.0,1...|       1|[-0.7561282527237...|[0.31948745404363...|       1.0|\n",
      "|(8,[0,1,4],[3.0,3...|       0|[-0.1082063169014...|[0.47297478459923...|       1.0|\n",
      "|(8,[0,1,4,5],[3.0...|       0|[2.23784162798015...|[0.90359660669215...|       0.0|\n",
      "|(8,[0,1,4,5],[3.0...|       0|[2.41654311737453...|[0.91808013130544...|       0.0|\n",
      "|(8,[0,1,4,5],[3.0...|       0|[2.68461357340701...|[0.93611259783869...|       0.0|\n",
      "|(8,[0,1,4,6],[1.0...|       1|[-3.4981439903129...|[0.02936508599852...|       1.0|\n",
      "|(8,[0,1,4,6],[1.0...|       1|[-2.7094858289752...|[0.06241593399453...|       1.0|\n",
      "|(8,[0,1,4,6],[1.0...|       1|[-1.8115688069870...|[0.14044862809436...|       1.0|\n",
      "|(8,[0,1,4,6],[1.0...|       1|[-1.3673568323755...|[0.20304722560752...|       1.0|\n",
      "|(8,[0,1,4,6],[2.0...|       0|[-1.8602306684017...|[0.13467616793765...|       1.0|\n",
      "|(8,[0,1,4,6],[2.0...|       1|[-1.8602306684017...|[0.13467616793765...|       1.0|\n",
      "|(8,[0,1,4,6],[2.0...|       1|[-1.4804143611955...|[0.18536484064047...|       1.0|\n",
      "|(8,[0,1,4,6],[2.0...|       1|[-1.4026049680266...|[0.19740306773018...|       1.0|\n",
      "|(8,[0,1,4,6],[2.0...|       0|[-1.2346508682974...|[0.22536845178515...|       1.0|\n",
      "|(8,[0,1,4,6],[3.0...|       0|[-1.3162961378305...|[0.21143517965724...|       1.0|\n",
      "|(8,[0,1,4,6],[3.0...|       1|[-1.1360402744995...|[0.24304811296828...|       1.0|\n",
      "|(8,[0,1,4,6],[3.0...|       0|[-0.9672265187643...|[0.27543366086889...|       1.0|\n",
      "|(8,[0,1,4,6],[3.0...|       1|[-0.7803849069742...|[0.31423693572567...|       1.0|\n",
      "|(8,[0,1,4,6],[3.0...|       1|[-0.7357006355382...|[0.32394501091641...|       1.0|\n",
      "|(8,[0,1,4,6],[3.0...|       1|[-0.5601769678860...|[0.36350651375318...|       1.0|\n",
      "+--------------------+--------+--------------------+--------------------+----------+\n",
      "only showing top 20 rows\n",
      "\n"
     ]
    }
   ],
   "source": [
    "test_res.show()"
   ]
  },
  {
   "cell_type": "code",
   "execution_count": null,
   "metadata": {},
   "outputs": [],
   "source": []
  }
 ],
 "metadata": {
  "kernelspec": {
   "display_name": "Python 3",
   "language": "python",
   "name": "python3"
  },
  "language_info": {
   "codemirror_mode": {
    "name": "ipython",
    "version": 3
   },
   "file_extension": ".py",
   "mimetype": "text/x-python",
   "name": "python",
   "nbconvert_exporter": "python",
   "pygments_lexer": "ipython3",
   "version": "3.7.9"
  }
 },
 "nbformat": 4,
 "nbformat_minor": 4
}
